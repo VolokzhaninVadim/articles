{
 "cells": [
  {
   "cell_type": "markdown",
   "id": "7aee392f",
   "metadata": {},
   "source": [
    "**Author:** Volokzhanin Vadim<br>\n",
    "**Date create:** 14.08.2021<br>\n",
    "**Repository:** https://github.com/VolokzhaninVadim/articles.git <br>\n",
    "**Target:** Сбор и рекомендации статей, которые могут понравиться"
   ]
  },
  {
   "cell_type": "markdown",
   "id": "b1fae322",
   "metadata": {},
   "source": [
    "# Описание работы приложения"
   ]
  },
  {
   "cell_type": "code",
   "execution_count": 1,
   "id": "4e39a460",
   "metadata": {},
   "outputs": [],
   "source": [
    "# Приложение\n",
    "# Поток данных"
   ]
  },
  {
   "cell_type": "markdown",
   "id": "c060349d",
   "metadata": {},
   "source": [
    "# Импортруем необходимые модули и данные"
   ]
  },
  {
   "cell_type": "code",
   "execution_count": 1,
   "id": "7b1dd2bd",
   "metadata": {},
   "outputs": [
    {
     "name": "stdout",
     "output_type": "stream",
     "text": [
      "[2021-09-12 14:20:23,822] {wrapper.py:16} INFO - Loading dictionaries from /usr/local/lib/python3.9/site-packages/pymorphy2_dicts_ru/data\n",
      "[2021-09-12 14:20:23,860] {wrapper.py:20} INFO - format: 2.4, revision: 417127, updated: 2020-10-11T15:05:51.070345\n"
     ]
    }
   ],
   "source": [
    "# Для работы с ОС \n",
    "import os \n",
    "\n",
    "# Для работы с табличными данными\n",
    "import pandas as pd\n",
    "# Для линейной алгебры и вычислений \n",
    "import numpy as np\n",
    "\n",
    "# Для загрузки данных c farpost.ru\n",
    "os.chdir('/root/jupyterlab/articles/')\n",
    "from src.HabrScraper import HabrScraper\n",
    "from src.Params import Params\n",
    "from src.DBResources import DBResources"
   ]
  },
  {
   "cell_type": "markdown",
   "id": "1b390baa",
   "metadata": {},
   "source": [
    "# Работаем с БД"
   ]
  },
  {
   "cell_type": "code",
   "execution_count": 2,
   "id": "676a2f37",
   "metadata": {},
   "outputs": [],
   "source": [
    "# Работа с бд\n",
    "db_resources = DBResources()"
   ]
  },
  {
   "cell_type": "code",
   "execution_count": 3,
   "id": "a2ee9a39",
   "metadata": {},
   "outputs": [
    {
     "name": "stdout",
     "output_type": "stream",
     "text": [
      "Схема: article Таблица: habr_posts Колонка: {'name': 'date_time', 'type': TIMESTAMP(), 'nullable': True, 'default': None, 'autoincrement': False, 'comment': 'Дата размещения поста'}\n",
      "Схема: article Таблица: habr_posts Колонка: {'name': 'id', 'type': INTEGER(), 'nullable': False, 'default': None, 'autoincrement': False, 'comment': 'Идентификатор поста'}\n",
      "Схема: article Таблица: habr_posts Колонка: {'name': 'title', 'type': TEXT(), 'nullable': True, 'default': None, 'autoincrement': False, 'comment': 'Тема поста'}\n",
      "Схема: article Таблица: habr_posts Колонка: {'name': 'text', 'type': TEXT(), 'nullable': True, 'default': None, 'autoincrement': False, 'comment': 'Текст поста'}\n",
      "Схема: article Таблица: habr_posts Колонка: {'name': 'lem_text', 'type': TEXT(), 'nullable': True, 'default': None, 'autoincrement': False, 'comment': 'Лемматизированная тема, текст, теги и автор поста'}\n",
      "Схема: article Таблица: habr_posts Колонка: {'name': 'tags', 'type': TEXT(), 'nullable': True, 'default': None, 'autoincrement': False, 'comment': 'Теги'}\n",
      "Схема: article Таблица: habr_posts Колонка: {'name': 'user_id', 'type': TEXT(), 'nullable': True, 'default': None, 'autoincrement': False, 'comment': 'Идентификатор пользователей'}\n",
      "Схема: article Таблица: habr_posts Колонка: {'name': 'date_load', 'type': TIMESTAMP(), 'nullable': True, 'default': None, 'autoincrement': False, 'comment': 'Дата загрузки'}\n",
      "Схема: article Таблица: habr_posts Колонка: {'name': 'is_like', 'type': BOOLEAN(), 'nullable': True, 'default': None, 'autoincrement': False, 'comment': 'Признак того, что пост мне нравится'}\n",
      "Схема: article Таблица: habr_html Колонка: {'name': 'link', 'type': VARCHAR(), 'nullable': False, 'default': None, 'autoincrement': False, 'comment': 'Ссылка на post'}\n",
      "Схема: article Таблица: habr_html Колонка: {'name': 'html', 'type': TEXT(), 'nullable': True, 'default': None, 'autoincrement': False, 'comment': 'html'}\n",
      "Схема: article Таблица: habr_html Колонка: {'name': 'date_load', 'type': TIMESTAMP(precision=0), 'nullable': True, 'default': None, 'autoincrement': False, 'comment': 'Дата загрузки'}\n",
      "Схема: article Таблица: habr_html Колонка: {'name': 'id', 'type': INTEGER(), 'nullable': True, 'default': None, 'autoincrement': False, 'comment': 'Идентифкатор post'}\n"
     ]
    }
   ],
   "source": [
    "# Смотрим описание данных\n",
    "db_resources.pg_descriptions()"
   ]
  },
  {
   "cell_type": "code",
   "execution_count": 4,
   "id": "5edc7991",
   "metadata": {},
   "outputs": [],
   "source": [
    "# Создаем схему при необходимости \n",
    "db_resources.create_db_scheme()\n",
    "# Создаем таблицы при необходимости\n",
    "db_resources.create_db_tables()"
   ]
  },
  {
   "cell_type": "markdown",
   "id": "63709d36",
   "metadata": {},
   "source": [
    "# Получаем данные "
   ]
  },
  {
   "cell_type": "code",
   "execution_count": 5,
   "id": "01e3f4b6",
   "metadata": {},
   "outputs": [],
   "source": [
    "# Создаем объект класса \n",
    "article_scraper = HabrScraper()"
   ]
  },
  {
   "cell_type": "code",
   "execution_count": 6,
   "id": "265896e1",
   "metadata": {},
   "outputs": [],
   "source": [
    "# Получаем новые данные\n",
    "# article_scraper.all_new()"
   ]
  },
  {
   "cell_type": "code",
   "execution_count": 7,
   "id": "b08dfd34",
   "metadata": {},
   "outputs": [],
   "source": [
    "# Обновляем данные\n",
    "# article_scraper.mass_write_habr()"
   ]
  },
  {
   "cell_type": "code",
   "execution_count": 8,
   "id": "3576704a",
   "metadata": {},
   "outputs": [],
   "source": [
    "# Получаем закладки и проставляем отметку о закладке\n",
    "# article_scraper.mark_bookmarks()"
   ]
  },
  {
   "cell_type": "code",
   "execution_count": null,
   "id": "01116b05",
   "metadata": {},
   "outputs": [],
   "source": [
    "# Разбираем уже полученные данные из html\n",
    "try:\n",
    "    while True:\n",
    "        article_scraper.write_new_data()\n",
    "except KeyboardInterrupt:\n",
    "    print('Прибил клавиатурой')"
   ]
  },
  {
   "cell_type": "code",
   "execution_count": null,
   "id": "b68c70f9",
   "metadata": {},
   "outputs": [],
   "source": []
  },
  {
   "cell_type": "code",
   "execution_count": null,
   "id": "e890df8d",
   "metadata": {},
   "outputs": [],
   "source": []
  },
  {
   "cell_type": "code",
   "execution_count": null,
   "id": "a5c6dbf4",
   "metadata": {},
   "outputs": [],
   "source": []
  },
  {
   "cell_type": "code",
   "execution_count": null,
   "id": "354e53bb",
   "metadata": {},
   "outputs": [],
   "source": []
  },
  {
   "cell_type": "code",
   "execution_count": null,
   "id": "85a269f3",
   "metadata": {},
   "outputs": [],
   "source": []
  },
  {
   "cell_type": "code",
   "execution_count": 5,
   "id": "e6fa54b2",
   "metadata": {},
   "outputs": [],
   "source": [
    "# article_scraper.html_write_habr(575140)"
   ]
  },
  {
   "cell_type": "code",
   "execution_count": 6,
   "id": "a0f8a184",
   "metadata": {},
   "outputs": [],
   "source": [
    "# article_scraper.mark_bookmarks()"
   ]
  },
  {
   "cell_type": "code",
   "execution_count": 6,
   "id": "d0078c65",
   "metadata": {},
   "outputs": [],
   "source": [
    "# article_scraper.write_new_data(575140, 575141)"
   ]
  },
  {
   "cell_type": "code",
   "execution_count": null,
   "id": "e12d443d",
   "metadata": {},
   "outputs": [],
   "source": [
    "# UPDATE\n",
    "# Получить все не обработанные \n",
    "# Заново постараться получить HTML \n",
    "# Заново постараться получить разобранный текст \n",
    "# Создаем таблицу pd.DataFrame([dict(row) for row in test])"
   ]
  },
  {
   "cell_type": "code",
   "execution_count": 28,
   "id": "784ed506",
   "metadata": {},
   "outputs": [
    {
     "data": {
      "text/plain": [
       "(152, 3)"
      ]
     },
     "execution_count": 28,
     "metadata": {},
     "output_type": "execute_result"
    }
   ],
   "source": [
    "# Изменить new_data, без daye_start and date_stop \n",
    "# Изменить mass_write_habr , без daye_start and date_stop \n",
    "# Изменить write_new_data , без daye_start and date_stop \n",
    "\n",
    "# Проверить по количеству записей как получилось. "
   ]
  },
  {
   "cell_type": "code",
   "execution_count": null,
   "id": "58b43de6",
   "metadata": {},
   "outputs": [],
   "source": [
    "# План \n",
    "# Создание таблиц сделать и их описмсание через ORM. \n",
    "# Сделать запрос, который бы возварщал данные.  \n",
    "# Подготовить модель автоэнкодера. \n",
    "# Обучаем в notebook. В итоге к каждому тексту должен быть вектор присвоен. \n",
    "# Сделать класстеризацию или усреднять вектора.\n",
    "# Делаем рассылку по итогам."
   ]
  },
  {
   "cell_type": "code",
   "execution_count": null,
   "id": "b9724436",
   "metadata": {},
   "outputs": [],
   "source": [
    "def create_db_scheme(schemas = {'sales_forecasting' : 'Прогнозирование продаж товаров'}]): \n",
    "    \"\"\"\n",
    "    Создание схемм данных. \n",
    "    Вход: \n",
    "        schemas(dict) - словарь схем с описанием.\n",
    "    Выход: \n",
    "        нет. \n",
    "    \"\"\"   \n",
    "    for schema in schemas.keys(): \n",
    "# Если нет схемы, то создаем ее \n",
    "        if schema not in data_loader.pg_metadata.schema: \n",
    "            data_loader.pg_engine.execute(CreateSchema(schema))\n",
    "            data_loader.pg_engine.execute(f\"COMMENT ON SCHEMA {schema} IS '{schemas[schema]}';\")"
   ]
  }
 ],
 "metadata": {
  "kernelspec": {
   "display_name": "Python 3",
   "language": "python",
   "name": "python3"
  },
  "language_info": {
   "codemirror_mode": {
    "name": "ipython",
    "version": 3
   },
   "file_extension": ".py",
   "mimetype": "text/x-python",
   "name": "python",
   "nbconvert_exporter": "python",
   "pygments_lexer": "ipython3",
   "version": "3.9.5"
  },
  "toc-autonumbering": true
 },
 "nbformat": 4,
 "nbformat_minor": 5
}
